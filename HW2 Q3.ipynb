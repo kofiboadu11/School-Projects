{
 "cells": [
  {
   "cell_type": "code",
   "execution_count": 88,
   "id": "ea944aa7",
   "metadata": {
    "scrolled": true
   },
   "outputs": [
    {
     "name": "stdout",
     "output_type": "stream",
     "text": [
      "   PassengerId  Survived  Pclass   Age  SibSp  Parch     Fare   male      Q  \\\n",
      "0            1         0       3  22.0      1      0   7.2500   True  False   \n",
      "1            2         1       1  38.0      1      0  71.2833  False  False   \n",
      "2            3         1       3  26.0      0      0   7.9250  False  False   \n",
      "3            4         1       1  35.0      1      0  53.1000  False  False   \n",
      "4            5         0       3  35.0      0      0   8.0500   True  False   \n",
      "\n",
      "       S  \n",
      "0   True  \n",
      "1  False  \n",
      "2   True  \n",
      "3   True  \n",
      "4   True  \n",
      "              precision    recall  f1-score   support\n",
      "\n",
      "           0       0.79      0.93      0.85       107\n",
      "           1       0.85      0.63      0.73        71\n",
      "\n",
      "    accuracy                           0.81       178\n",
      "   macro avg       0.82      0.78      0.79       178\n",
      "weighted avg       0.81      0.81      0.80       178\n",
      "\n",
      "Accuracy: 0.8089887640449438\n"
     ]
    },
    {
     "name": "stderr",
     "output_type": "stream",
     "text": [
      "C:\\Users\\Owner\\anaconda3\\Lib\\site-packages\\sklearn\\linear_model\\_logistic.py:460: ConvergenceWarning: lbfgs failed to converge (status=1):\n",
      "STOP: TOTAL NO. of ITERATIONS REACHED LIMIT.\n",
      "\n",
      "Increase the number of iterations (max_iter) or scale the data as shown in:\n",
      "    https://scikit-learn.org/stable/modules/preprocessing.html\n",
      "Please also refer to the documentation for alternative solver options:\n",
      "    https://scikit-learn.org/stable/modules/linear_model.html#logistic-regression\n",
      "  n_iter_i = _check_optimize_result(\n"
     ]
    }
   ],
   "source": [
    "#Kofi Boadu kob200000 CS4375\n",
    "import pandas as pd\n",
    "import numpy as np\n",
    "import matplotlib.pyplot as plt\n",
    "import seaborn as sns\n",
    "from sklearn.model_selection import train_test_split\n",
    "from sklearn.linear_model import LogisticRegression\n",
    "from sklearn.metrics import classification_report\n",
    "from sklearn import metrics\n",
    "\n",
    "def impute_age(cols):\n",
    "    Age = cols[0]\n",
    "    Pclass = cols[1]\n",
    "\n",
    "    if pd.isnull(Age):\n",
    "        if Pclass == 1:\n",
    "            return 37\n",
    "        elif Pclass == 2:\n",
    "            return 29\n",
    "        else:\n",
    "            return 24\n",
    "    else:\n",
    "        return Age\n",
    "\n",
    "def Q3():\n",
    " \n",
    "    %matplotlib inline\n",
    "    train = pd.read_csv('titanic_train.csv')\n",
    "    test = pd.read_csv('titanic_test.csv')\n",
    "    df=pd.DataFrame(train)\n",
    "    train['Age'] = train[['Age','Pclass']].apply(impute_age,axis=1)\n",
    "    test['Age'] = test[['Age','Pclass']].apply(impute_age,axis=1)\n",
    "    train.drop('Cabin',axis=1,inplace=True)\n",
    "    test.drop('Cabin',axis=1,inplace=True)\n",
    "    train.dropna(inplace=True)\n",
    "    sex = pd.get_dummies(train['Sex'],drop_first=True)\n",
    "    embark = pd.get_dummies(train['Embarked'],drop_first=True)\n",
    "    train.drop(['Sex','Embarked','Name','Ticket'],axis=1,inplace=True)\n",
    "    train = pd.concat([train,sex,embark],axis=1)\n",
    "    print(train.head())\n",
    "    X_train, X_test, y_train, y_test = train_test_split(train.drop('Survived',axis=1),train['Survived'], test_size=0.20,random_state=101)\n",
    "    logmodel = LogisticRegression()\n",
    "    logmodel.fit(X_train,y_train)\n",
    "    predictions = logmodel.predict(X_test)\n",
    "    print(classification_report(y_test,predictions))\n",
    "    print(\"Accuracy:\",metrics.accuracy_score(y_test, predictions))\n",
    "        \n",
    "   \n",
    "Q3()\n",
    "\n"
   ]
  },
  {
   "cell_type": "code",
   "execution_count": null,
   "id": "396c961a",
   "metadata": {},
   "outputs": [],
   "source": []
  },
  {
   "cell_type": "code",
   "execution_count": null,
   "id": "9462965f",
   "metadata": {},
   "outputs": [],
   "source": []
  }
 ],
 "metadata": {
  "kernelspec": {
   "display_name": "Python 3 (ipykernel)",
   "language": "python",
   "name": "python3"
  },
  "language_info": {
   "codemirror_mode": {
    "name": "ipython",
    "version": 3
   },
   "file_extension": ".py",
   "mimetype": "text/x-python",
   "name": "python",
   "nbconvert_exporter": "python",
   "pygments_lexer": "ipython3",
   "version": "3.11.5"
  }
 },
 "nbformat": 4,
 "nbformat_minor": 5
}
