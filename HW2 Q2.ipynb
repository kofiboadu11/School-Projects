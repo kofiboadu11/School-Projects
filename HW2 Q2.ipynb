{
 "cells": [
  {
   "cell_type": "code",
   "execution_count": 25,
   "id": "eae39941",
   "metadata": {},
   "outputs": [
    {
     "name": "stdout",
     "output_type": "stream",
     "text": [
      "             0      1      2    3      4      5     6       7    8      9   \\\n",
      "0       0.00632  18.00   2.31  0.0  0.538  6.575  65.2  4.0900  1.0  296.0   \n",
      "1     396.90000   4.98  24.00  NaN    NaN    NaN   NaN     NaN  NaN    NaN   \n",
      "2       0.02731   0.00   7.07  0.0  0.469  6.421  78.9  4.9671  2.0  242.0   \n",
      "3     396.90000   9.14  21.60  NaN    NaN    NaN   NaN     NaN  NaN    NaN   \n",
      "4       0.02729   0.00   7.07  0.0  0.469  7.185  61.1  4.9671  2.0  242.0   \n",
      "...         ...    ...    ...  ...    ...    ...   ...     ...  ...    ...   \n",
      "1007  396.90000   5.64  23.90  NaN    NaN    NaN   NaN     NaN  NaN    NaN   \n",
      "1008    0.10959   0.00  11.93  0.0  0.573  6.794  89.3  2.3889  1.0  273.0   \n",
      "1009  393.45000   6.48  22.00  NaN    NaN    NaN   NaN     NaN  NaN    NaN   \n",
      "1010    0.04741   0.00  11.93  0.0  0.573  6.030  80.8  2.5050  1.0  273.0   \n",
      "1011  396.90000   7.88  11.90  NaN    NaN    NaN   NaN     NaN  NaN    NaN   \n",
      "\n",
      "        10  \n",
      "0     15.3  \n",
      "1      NaN  \n",
      "2     17.8  \n",
      "3      NaN  \n",
      "4     17.8  \n",
      "...    ...  \n",
      "1007   NaN  \n",
      "1008  21.0  \n",
      "1009   NaN  \n",
      "1010  21.0  \n",
      "1011   NaN  \n",
      "\n",
      "[1012 rows x 11 columns]\n",
      "Training RMSE: 7.635117712713567\n",
      "Testing RMSE: 6.8881079155644125\n"
     ]
    }
   ],
   "source": [
    "#Kofi Boadu kob200000 CS4375\n",
    "import pandas as pd\n",
    "import numpy as np\n",
    "from sklearn.model_selection import train_test_split\n",
    "from sklearn.metrics import mean_squared_error\n",
    "\n",
    "data_url = \"http://lib.stat.cmu.edu/datasets/boston\"\n",
    "raw_df = pd.read_csv(data_url, sep=\"\\s+\", skiprows=22, header=None)\n",
    "boston_dataset = np.hstack([raw_df.values[::2, :], raw_df.values[1::2, :3]])\n",
    "print(raw_df)\n",
    "boston = pd.DataFrame(data=boston_dataset, columns=['CRIM', 'ZN', 'INDUS', 'CHAS', 'NOX', 'RM', 'AGE', 'DIS', 'RAD', 'TAX', 'PTRATIO', 'B', 'LSTAT', 'MEDV'])\n",
    "boston.head()\n",
    "X = pd.DataFrame(np.c_[boston['LSTAT'], boston['RM']], columns = ['LSTAT','RM'])\n",
    "y = boston['MEDV']\n",
    "X = np.c_[np.ones(X.shape[0]), X]\n",
    "X_train, X_test, y_train, y_test = train_test_split(X, y, test_size=0.3, random_state=42)\n",
    "weights = np.zeros(X_train.shape[1])\n",
    "alpha = 0.000001\n",
    "num_iters = 100000\n",
    "#Gradient Descent\n",
    "for i in range(num_iters):\n",
    "    prediction = np.dot(X_train, weights)\n",
    "    error = pred - y_train\n",
    "    weights = weights - (alpha / len(X_train)) * np.dot(X_train.T, error)\n",
    "train_pred = np.dot(X_train, weights)\n",
    "test_pred = np.dot(X_test, weights)\n",
    "\n",
    "train_rmse = np.sqrt(mean_squared_error(y_train, train_pred))\n",
    "test_rmse = np.sqrt(mean_squared_error(y_test, test_pred))\n",
    "\n",
    "print(f'Training RMSE: {train_rmse}')\n",
    "print(f'Testing RMSE: {test_rmse}')\n",
    "    "
   ]
  },
  {
   "cell_type": "code",
   "execution_count": null,
   "id": "e5660318",
   "metadata": {},
   "outputs": [],
   "source": []
  }
 ],
 "metadata": {
  "kernelspec": {
   "display_name": "Python 3 (ipykernel)",
   "language": "python",
   "name": "python3"
  },
  "language_info": {
   "codemirror_mode": {
    "name": "ipython",
    "version": 3
   },
   "file_extension": ".py",
   "mimetype": "text/x-python",
   "name": "python",
   "nbconvert_exporter": "python",
   "pygments_lexer": "ipython3",
   "version": "3.11.5"
  }
 },
 "nbformat": 4,
 "nbformat_minor": 5
}
