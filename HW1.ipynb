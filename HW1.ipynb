{
 "cells": [
  {
   "cell_type": "code",
   "execution_count": 4,
   "id": "d16c12d9",
   "metadata": {},
   "outputs": [
    {
     "name": "stdout",
     "output_type": "stream",
     "text": [
      "hello world\n"
     ]
    }
   ],
   "source": [
    "def task1():\n",
    "    print(\"hello world\")\n",
    "if __name__=='__main__':\n",
    "    task1()"
   ]
  },
  {
   "cell_type": "code",
   "execution_count": 1,
   "id": "8cba3d5e",
   "metadata": {},
   "outputs": [
    {
     "name": "stdout",
     "output_type": "stream",
     "text": [
      "[1, 2, 3, 4, 5]\n"
     ]
    }
   ],
   "source": [
    "def task2():\n",
    "    items=[1,2,3,4,5]\n",
    "    print(items)\n",
    "task2()"
   ]
  },
  {
   "cell_type": "code",
   "execution_count": 6,
   "id": "83699f93",
   "metadata": {},
   "outputs": [
    {
     "name": "stdout",
     "output_type": "stream",
     "text": [
      "[1, 2, 3, 4, 5]\n",
      "[6, 7, 8, 9, 10]\n"
     ]
    }
   ],
   "source": [
    "def task3():\n",
    "    file=open(\"task3.data\", \"r\").read().split(',')\n",
    "    items1=[]\n",
    "    for i in range(5):\n",
    "        items1.append(int(file[i]))\n",
    "    \n",
    "    items2=[]\n",
    "    for i in range(5,10):\n",
    "        items2.append(int(file[i]))\n",
    "        \n",
    "    print(items1)\n",
    "    print(items2)\n",
    "task3()\n",
    "\n",
    "\n",
    "        "
   ]
  },
  {
   "cell_type": "code",
   "execution_count": 1,
   "id": "0c25fd9f",
   "metadata": {},
   "outputs": [
    {
     "name": "stdout",
     "output_type": "stream",
     "text": [
      "school:UAlbany\n",
      "address:1400 Washington Ave, Albany, NY 12222\n",
      "phone:(518) 442-3300\n"
     ]
    }
   ],
   "source": [
    "def task4():\n",
    "    data=dict()\n",
    "    data['school']='UAlbany'\n",
    "    data['address'] = '1400 Washington Ave, Albany, NY 12222'\n",
    "    data['phone'] = '(518) 442-3300'\n",
    "    for key,value in data.items():\n",
    "        statement=key+\":\"+ value\n",
    "        print(statement)\n",
    "task4()\n",
    "   "
   ]
  },
  {
   "cell_type": "code",
   "execution_count": 19,
   "id": "7061e78b",
   "metadata": {},
   "outputs": [
    {
     "name": "stdout",
     "output_type": "stream",
     "text": [
      "{'school': 'UAlbany', 'address': '1400 Washington Ave, Albany, NY 1222', 'phone': '(518)442-3300'}\n"
     ]
    }
   ],
   "source": [
    "def task5():\n",
    "    import json \n",
    "    data=dict()\n",
    "    data['school'] = 'UAlbany' \n",
    "    data['address'] = '1400 Washington Ave, Albany, NY 1222'\n",
    "    data['phone'] = '(518)442-3300'\n",
    "    with open('data.json', 'w') as fp:\n",
    "        json.dump(data, fp)  \n",
    "    with open('data.json', 'r') as fp:     \n",
    "        data = json.load(fp)  \n",
    "        print(data)\n",
    "task5()"
   ]
  },
  {
   "cell_type": "code",
   "execution_count": 30,
   "id": "b4faa867",
   "metadata": {},
   "outputs": [
    {
     "name": "stdout",
     "output_type": "stream",
     "text": [
      "{'school': 'UAlbany', 'address': '1400 Washington Ave, Albany, NY 1222', 'phone': '(518)442-3300', 'items': [1, 2, 3, 4]}\n"
     ]
    }
   ],
   "source": [
    "def task6():\n",
    "    import json\n",
    "    data=dict()\n",
    "    data['school'] = 'UAlbany' \n",
    "    data['address'] = '1400 Washington Ave, Albany, NY 1222' \n",
    "    data['phone'] = '(518)442-3300' \n",
    "    items = [1,2,3,4]\n",
    "    data['items']=items\n",
    "    with open('task6.data', 'w') as fp:     \n",
    "        json.dump(data, fp)  \n",
    "    with open('task6.data', 'r') as fp:     \n",
    "        data = json.load(fp) \n",
    "        print(data)\n",
    "    \n",
    "    \n",
    "\n",
    "task6()"
   ]
  },
  {
   "cell_type": "code",
   "execution_count": 7,
   "id": "5aa29744",
   "metadata": {},
   "outputs": [
    {
     "name": "stdout",
     "output_type": "stream",
     "text": [
      "429129916446031872\n",
      "429117247307923456\n",
      "429315798893461505\n",
      "429079910091476992\n",
      "429030956888899584\n",
      "429152645702352896\n",
      "429016075921940481\n",
      "428898232690044928\n",
      "428956892602191873\n",
      "429111068368326656\n",
      "429167217976958976\n",
      "429379822314614785\n",
      "429235096919359488\n",
      "428986795586383872\n",
      "429238790310203392\n",
      "429509723516194817\n",
      "429509617756811264\n",
      "429509135437017089\n",
      "429509033045659648\n",
      "429508763708817408\n",
      "429508217303875584\n",
      "429508122604883969\n",
      "429507949934157824\n",
      "429507930975510528\n",
      "429507700716613632\n",
      "429507388056412160\n",
      "429507387393703936\n",
      "429507291763576832\n",
      "429506469214437376\n",
      "429506433801924608\n",
      "429506012626702336\n",
      "429505339621662720\n",
      "429505236148174848\n",
      "429505189544878081\n",
      "429505128605818880\n",
      "429505116433956864\n",
      "429504618939158528\n",
      "429503319321493504\n",
      "429503199959986177\n",
      "429502545145237504\n",
      "429502437460680704\n",
      "429502289481449472\n",
      "429502207763836929\n",
      "429502122015481856\n",
      "429501723934461952\n",
      "429501695442186240\n",
      "429501574805585920\n",
      "429501521940598784\n",
      "429501272786354176\n",
      "429501173670739968\n",
      "429500659553931264\n",
      "429500626821996544\n",
      "429500250303111168\n",
      "429499974507061248\n",
      "429499957083897856\n",
      "429499927874789376\n",
      "429499891593658368\n",
      "429499566778351616\n",
      "429499480954531841\n",
      "429499000081760256\n",
      "429498405837369344\n",
      "429498397167734784\n",
      "429497948267765760\n",
      "429497921277415426\n",
      "429497098531115008\n",
      "429496907191181312\n",
      "429496260790206467\n",
      "429496119207272448\n",
      "429495848548847616\n",
      "429495195319951361\n",
      "429495172859060224\n",
      "429494325622222848\n",
      "429493745243799552\n",
      "429493724763389953\n",
      "429493689216679936\n",
      "429493026323300352\n",
      "429492585606807552\n",
      "429492578195472384\n",
      "429492510801420288\n",
      "429492212674478080\n",
      "429491944268374016\n",
      "429491406961250305\n",
      "429490875685556224\n",
      "429489676513054720\n",
      "429489649082314752\n",
      "429489638408220672\n",
      "429489636746878976\n",
      "429489636444884992\n",
      "429489636423897090\n",
      "429489636386144256\n",
      "429489380147740672\n",
      "429488933169147904\n",
      "429488616197193730\n",
      "429488467572056064\n",
      "429488175862808576\n",
      "429488126608678912\n",
      "429487461878992897\n",
      "429487155757330432\n",
      "429487042423033856\n",
      "429486947955146752\n",
      "429486365659906048\n",
      "429485718771990528\n",
      "429485563507654656\n",
      "429485059242856448\n",
      "429484915839991808\n",
      "429484743227625472\n",
      "429484226082525184\n",
      "429484187171971072\n",
      "429483997932949504\n",
      "429483743066091521\n",
      "429483488165654528\n",
      "429482862300397568\n",
      "429482630036205568\n",
      "429482200552067073\n",
      "429482178645606400\n"
     ]
    }
   ],
   "source": [
    "def task7():\n",
    "    import json\n",
    "    for line in open('CrimeReport.txt').readlines():\n",
    "        tweet=json.loads(line)\n",
    "        if tweet['id']:\n",
    "            print(tweet['id'])\n",
    "task7()\n"
   ]
  },
  {
   "cell_type": "code",
   "execution_count": 12,
   "id": "e703a5b0",
   "metadata": {},
   "outputs": [],
   "source": [
    "def task8():\n",
    "    import json\n",
    "    from datetime import datetime\n",
    "    import os\n",
    "    import string\n",
    "    tweets=[]\n",
    "    for line in open('CrimeReport.txt'):\n",
    "        tweet=json.loads(line)\n",
    "        tweets.append(tweet)\n",
    "    sorted_tweets = sorted(tweets, key = lambda item: datetime.strptime(item['created_at'], '%a %b %d %H:%M:%S +0000 %Y'))\n",
    "    f = open('task8.data', 'w')\n",
    "    for tweet in sorted_tweets[-10:]:\n",
    "        f.write(json.dumps(tweet) + '\\n')\n",
    "    f.close()\n",
    "task8() "
   ]
  },
  {
   "cell_type": "code",
   "execution_count": 8,
   "id": "e4e4cec6",
   "metadata": {},
   "outputs": [],
   "source": [
    "import os\n",
    "import json\n",
    "from datetime import datetime\n",
    "\n",
    "def extract_hour(tweet):\n",
    "    \n",
    "    created_at = tweet.get('created_at', '')\n",
    "    timestamp = datetime.strptime(created_at, '%a %b %d %H:%M:%S +0000 %Y')\n",
    "    hour_str = timestamp.strftime('%a-%b%d-%Y-%H')\n",
    "    return hour_str\n",
    "\n",
    "def process_tweets(input_file_path, output_folder):\n",
    "   \n",
    "    if not os.path.exists(output_folder):\n",
    "        os.makedirs(output_folder)\n",
    "\n",
    "    with open(input_file_path, 'r', encoding='utf-8') as input_file:\n",
    "        for line in input_file:\n",
    "            try:\n",
    "                tweet = json.loads(line)\n",
    "                hour_str = extract_hour(tweet)\n",
    "\n",
    "               \n",
    "                output_file_path = os.path.join(output_folder, f'{hour_str}.txt')\n",
    "\n",
    "               \n",
    "                with open(output_file_path, 'a', encoding='utf-8') as output_file:\n",
    "                    output_file.write(json.dumps(tweet) + '\\n')\n",
    "\n",
    "            except json.JSONDecodeError as e:\n",
    "                print(f\"Error decoding JSON: {e}\")\n",
    "                continue\n",
    "\n",
    "\n",
    "input_file_path = 'CrimeReport.txt'\n",
    "output_folder = 'task9-output'\n",
    "\n",
    "\n",
    "process_tweets(input_file_path, output_folder)"
   ]
  },
  {
   "cell_type": "code",
   "execution_count": null,
   "id": "a20ee055",
   "metadata": {},
   "outputs": [],
   "source": []
  }
 ],
 "metadata": {
  "kernelspec": {
   "display_name": "Python 3 (ipykernel)",
   "language": "python",
   "name": "python3"
  },
  "language_info": {
   "codemirror_mode": {
    "name": "ipython",
    "version": 3
   },
   "file_extension": ".py",
   "mimetype": "text/x-python",
   "name": "python",
   "nbconvert_exporter": "python",
   "pygments_lexer": "ipython3",
   "version": "3.11.5"
  }
 },
 "nbformat": 4,
 "nbformat_minor": 5
}
